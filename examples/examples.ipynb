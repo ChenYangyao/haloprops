{
 "cells": [
  {
   "cell_type": "markdown",
   "metadata": {
    "toc": true
   },
   "source": [
    "<h1>Table of Contents<span class=\"tocSkip\"></span></h1>\n",
    "<div class=\"toc\"><ul class=\"toc-item\"></ul></div>"
   ]
  },
  {
   "cell_type": "code",
   "execution_count": 1,
   "metadata": {},
   "outputs": [
    {
     "name": "stdout",
     "output_type": "stream",
     "text": [
      "[7.64163541 9.60598357 9.55865516]\n"
     ]
    }
   ],
   "source": [
    "from haloprops.structure import StructurePredictor\n",
    "\n",
    "# Initialize a halo structural predictor 'sp'.\n",
    "sp = StructurePredictor()\n",
    "\n",
    "# Specify which structural parameter is needed. fit() will perfrom fittings \n",
    "# of template data, which may takes some time. Here we use concentration as \n",
    "# target.\n",
    "sp.fit('concentration')\n",
    "\n",
    "# Now, predict concentration from other halo parameters. Here, we provide a \n",
    "# list of halos, each has four elements \n",
    "#       [MAH PC1,  halo mass, tidal anisotropy, halo bias]. \n",
    "# For the detail of these parameters, please refer to the doc string of \n",
    "# fit() and predict() methods.\n",
    "# predict() method takes the list of halos and outputs several useful \n",
    "# quantities, with 'val' to be the predicted structural parameter (here\n",
    "# the concentration of halos).\n",
    "X = [[ 1.55278125e+00,  2.78270723e+04,  1.88321865e-01,\n",
    "    4.02548960e+00],\n",
    "  [ 3.08029618e-01,  2.88465363e+02,  1.81991570e-01,\n",
    "    -1.14664588e-01],\n",
    "  [ 3.46576614e-01,  1.57965881e+03,  4.11933281e-01,\n",
    "    2.77537420e+00]]\n",
    "concentration = sp.predict(X).val\n",
    "print(concentration)"
   ]
  },
  {
   "cell_type": "code",
   "execution_count": null,
   "metadata": {},
   "outputs": [],
   "source": []
  }
 ],
 "metadata": {
  "kernelspec": {
   "display_name": "Python 3",
   "language": "python",
   "name": "python3"
  },
  "language_info": {
   "codemirror_mode": {
    "name": "ipython",
    "version": 3
   },
   "file_extension": ".py",
   "mimetype": "text/x-python",
   "name": "python",
   "nbconvert_exporter": "python",
   "pygments_lexer": "ipython3",
   "version": "3.7.6"
  },
  "toc": {
   "base_numbering": 1,
   "nav_menu": {},
   "number_sections": true,
   "sideBar": true,
   "skip_h1_title": false,
   "title_cell": "Table of Contents",
   "title_sidebar": "Contents",
   "toc_cell": true,
   "toc_position": {},
   "toc_section_display": true,
   "toc_window_display": true
  }
 },
 "nbformat": 4,
 "nbformat_minor": 4
}
